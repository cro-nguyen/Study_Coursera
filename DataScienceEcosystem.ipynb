{
 "cells": [
  {
   "cell_type": "markdown",
   "id": "46dc4dc5-3e42-4256-99dd-1334e013722e",
   "metadata": {},
   "source": [
    "# Data Science Tools and Ecosystem\n",
    "In this notebook, Data Science Tools and Ecosystem are summarized.\n",
    "\n",
    "Some of the popular languages that Data Scientists use are:\n",
    "1. Python\n",
    "2. R\n",
    "3. SQL\n",
    "\n",
    "Some of the commonly used libraries used by Data Scientists include:\n",
    "1. Pandas\n",
    "2. NumPy\n",
    "3. Matplotlib\n",
    "\n",
    "| Data Science Tools |\n",
    "|--------------------|\n",
    "| Jupyter Notebook   |\n",
    "| RStudio            |\n",
    "| Apache Zeppelin    |\n",
    "\n",
    "### Below are a few examples of evaluating arithmetic expressions in Python.\n",
    "\n",
    "---"
   ]
  },
  {
   "cell_type": "code",
   "execution_count": 13,
   "id": "63a0758d-678c-4124-b041-3f6747d0247d",
   "metadata": {},
   "outputs": [
    {
     "data": {
      "text/plain": [
       "17"
      ]
     },
     "execution_count": 13,
     "metadata": {},
     "output_type": "execute_result"
    }
   ],
   "source": [
    "# This a simple arithmetic expression to multiply then add integers.\n",
    "(3*4)+5"
   ]
  },
  {
   "cell_type": "code",
   "execution_count": 16,
   "id": "96af1bc5-9ce9-406b-a232-f83728d9972d",
   "metadata": {},
   "outputs": [
    {
     "data": {
      "text/plain": [
       "3.3333333333333335"
      ]
     },
     "execution_count": 16,
     "metadata": {},
     "output_type": "execute_result"
    }
   ],
   "source": [
    "# This will convert 200 minutes to hours by dividing by 60.\n",
    "200 / 60\n"
   ]
  },
  {
   "cell_type": "markdown",
   "id": "296fe666-fe88-4ff0-87b5-ea94900bb660",
   "metadata": {},
   "source": [
    "# Objectives:\n",
    "\n",
    "- List popular languages for Data Science\n",
    "- List commonly used libraries for Data Science\n",
    "- Provide examples of evaluating arithmetic expressions in Python\n",
    "- Create and manipulate a DataFrame using pandas"
   ]
  },
  {
   "cell_type": "markdown",
   "id": "053bf1b7-f539-4e2c-9b26-a986b79872c1",
   "metadata": {},
   "source": [
    "## Author\r\n",
    "Lakshmi Holla  \r\n",
    "Niveditha Pandith\r\n",
    "\r\n",
    "## Other contributor(s)\r\n",
    "Rav Ahuja  \r\n",
    "Malika ingla\r\n"
   ]
  }
 ],
 "metadata": {
  "kernelspec": {
   "display_name": "Python 3 (ipykernel)",
   "language": "python",
   "name": "python3"
  },
  "language_info": {
   "codemirror_mode": {
    "name": "ipython",
    "version": 3
   },
   "file_extension": ".py",
   "mimetype": "text/x-python",
   "name": "python",
   "nbconvert_exporter": "python",
   "pygments_lexer": "ipython3",
   "version": "3.11.7"
  }
 },
 "nbformat": 4,
 "nbformat_minor": 5
}
